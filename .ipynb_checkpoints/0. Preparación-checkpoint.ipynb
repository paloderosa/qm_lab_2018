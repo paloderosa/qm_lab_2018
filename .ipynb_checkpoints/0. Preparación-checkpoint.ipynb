{
 "cells": [
  {
   "cell_type": "markdown",
   "metadata": {},
   "source": [
    "# 0. Preparación\n",
    "\n",
    "## 0.1 Anaconda\n",
    "\n",
    "Como parte del laboratorio vamos a estar programando en Python. Una manera interactiva de programar en Python es usar los cuadernos de Jupyter (Jupyter notebooks) y la manera más sencilla de realizar una instalación completa de Python que incluya a Python es mediante la instalación de [Anaconda 3](https://www.anaconda.com/download).\n",
    "\n",
    "## 0.2 Crear un _environment_\n",
    "\n",
    "Es posible que ustedes ya hayan instalado Anaconda antes y corran varios proyectos. Lo más recomendable es instalar una distribución de Python para cada proyecto distinto, de modo que las librerías que usan para cada uno de sus proyectos no entren en conflicto. Una vez que hayan instalado Anaconda, abren una ventana del _shell_ y escriben\n",
    "\n",
    "```\n",
    "conda create --name qiskit\n",
    "```\n",
    "\n",
    "Esto produce un _environment_ llamado **qiskit** en el que pueden instalar todas las librerías que necesiten para correr un proyecto específico. Lo siguiente que necesitan es activarlo escribiendo en el _shell_\n",
    "\n",
    "```\n",
    "source activate qiskit\n",
    "\n",
    "```\n",
    "en Linux y macOS o\n",
    "\n",
    "```\n",
    "activate qiskit\n",
    "\n",
    "```\n",
    "en Windows. En nuestro caso, necesitamos instalar **jupyter** para correr los _notebooks_ y **qiskit**, que es una librería para crear, editar y simular circuitos cuánticos. Entonces, en el _shell_, después de activar su _environment_, escriben\n",
    "\n",
    "```\n",
    "pip install jupyter\n",
    "\n",
    "```"
   ]
  },
  {
   "cell_type": "markdown",
   "metadata": {},
   "source": [
    "Esto produce un "
   ]
  },
  {
   "cell_type": "markdown",
   "metadata": {},
   "source": []
  },
  {
   "cell_type": "markdown",
   "metadata": {},
   "source": []
  },
  {
   "cell_type": "markdown",
   "metadata": {},
   "source": []
  },
  {
   "cell_type": "markdown",
   "metadata": {},
   "source": []
  },
  {
   "cell_type": "code",
   "execution_count": null,
   "metadata": {},
   "outputs": [],
   "source": []
  }
 ],
 "metadata": {
  "kernelspec": {
   "display_name": "Python 3",
   "language": "python",
   "name": "python3"
  },
  "language_info": {
   "codemirror_mode": {
    "name": "ipython",
    "version": 3
   },
   "file_extension": ".py",
   "mimetype": "text/x-python",
   "name": "python",
   "nbconvert_exporter": "python",
   "pygments_lexer": "ipython3",
   "version": "3.7.1"
  }
 },
 "nbformat": 4,
 "nbformat_minor": 2
}
