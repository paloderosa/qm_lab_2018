{
 "cells": [
  {
   "cell_type": "markdown",
   "metadata": {},
   "source": [
    "# 0. Preparación\n",
    "\n",
    "\n",
    "## 0.1 Descargar este notebook\n",
    "\n",
    "Lo primero que necesitan hacer es crear una carpeta en su computadora, llámenle como quieran, para el laboratorio de mecánica cuántica. Descargan ahí este notebook.\n",
    "\n",
    "\n",
    "## 0.2 Anaconda\n",
    "\n",
    "Como parte del laboratorio vamos a estar programando en Python. Una manera interactiva de programar en Python es usar los cuadernos de Jupyter (Jupyter notebooks) y la manera más sencilla de realizar una instalación completa de Python es mediante la instalación de [Anaconda3](https://www.anaconda.com/download).\n",
    "\n",
    "\n",
    "## 0.3 Crear un _environment_\n",
    "\n",
    "Es posible que ustedes ya hayan instalado Anaconda antes y corran varios proyectos. Lo más recomendable es instalar una distribución de Python para cada proyecto distinto, de modo que las librerías que usan para cada uno de sus proyectos no entren en conflicto. Una vez que hayan instalado Anaconda, abren una ventana del _shell_ y escriben\n",
    "\n",
    "```\n",
    "conda create --name qiskit\n",
    "```\n",
    "\n",
    "Esto produce un _environment_ llamado **qiskit** en el que pueden instalar todas las librerías que necesiten para correr este proyecto. Lo siguiente que necesitan es activarlo escribiendo en el _shell_\n",
    "\n",
    "```\n",
    "source activate qiskit\n",
    "\n",
    "```\n",
    "en Linux y macOS o\n",
    "\n",
    "```\n",
    "activate qiskit\n",
    "\n",
    "```\n",
    "en Windows. \n",
    "\n",
    "\n",
    "## 0.4 Instalar lo necesario\n",
    "\n",
    "En nuestro caso, necesitamos instalar **jupyter** para correr los _notebooks_ y **qiskit**, que es una librería para crear, editar y simular circuitos cuánticos. Entonces, en el _shell_, después de activar su _environment_, escriben\n",
    "\n",
    "```\n",
    "pip install jupyter qiskit\n",
    "\n",
    "```\n",
    "\n",
    "## 0.5 Probando todo: primer circuito cuántico\n",
    "\n",
    "Para probar que todo funciona bien, escribimos en el _shell_\n",
    "```\n",
    "jupyter-notebook\n",
    "```\n",
    "que debe abrir **jupyter** en su navegador. Si no abre automáticamente en su navegador, copien la dirección que se les indica en el _shell_, una que empieza con ```http://localhost:8888/``` y péguenla en su navegador. Dentro de **jupyter**, busquen este notebook y ábranlo. Ahora, ejecutamos lo siguiente. Recuerden que para ejecutar una línea de su _notebook_, deben de tener el cursor dentro de la línea y presionar ```Shift + Enter```."
   ]
  },
  {
   "cell_type": "code",
   "execution_count": 1,
   "metadata": {},
   "outputs": [],
   "source": [
    "import qiskit\n",
    "from qiskit.tools.visualization import circuit_drawer"
   ]
  },
  {
   "cell_type": "markdown",
   "metadata": {},
   "source": [
    "Con **qiskit**, podemos crear un _qubit_, que es un estado de dos niveles $|\\psi\\rangle = \\alpha|0\\rangle + \\beta|1\\rangle$ y un _bit_. Entonces especificamos una computadora cuántica cuyo espacio computacional consiste en un sólo _qubit_."
   ]
  },
  {
   "cell_type": "code",
   "execution_count": 2,
   "metadata": {},
   "outputs": [],
   "source": [
    "qr = qiskit.QuantumRegister(1)\n",
    "cr = qiskit.ClassicalRegister(1)\n",
    "circuit = qiskit.QuantumCircuit(qr, cr)"
   ]
  },
  {
   "cell_type": "markdown",
   "metadata": {},
   "source": [
    "Una computadora cuántica consiste en lo siguiente:\n",
    "\n",
    "- un espacio computacional, dado por una colección de _qubits_,\n",
    "- compuertas lógicas cuánticas, análogas a las compuertas lógicas clásicas, representadas por operadores unitarios actuando sobre los _qubits_,\n",
    "- medición de los _qubits_,\n",
    "- comunicación clásica.\n",
    "\n",
    "En este caso, la primera operación sobre nuestro _qubit_ es una medición. Con esto, sólo le decimos a **qiskit** cual es el diseño de nuestro circuito, **qiskit** ejecuta el circuito hasta que se lo pedimos."
   ]
  },
  {
   "cell_type": "code",
   "execution_count": 3,
   "metadata": {},
   "outputs": [
    {
     "data": {
      "text/plain": [
       "<qiskit._instructionset.InstructionSet at 0x7fd5561a6dd8>"
      ]
     },
     "execution_count": 3,
     "metadata": {},
     "output_type": "execute_result"
    }
   ],
   "source": [
    "circuit.measure(qr,cr)"
   ]
  },
  {
   "cell_type": "markdown",
   "metadata": {},
   "source": [
    "Este es nuestro circuito."
   ]
  },
  {
   "cell_type": "code",
   "execution_count": 4,
   "metadata": {},
   "outputs": [
    {
     "data": {
      "image/png": "[encoded data removed]",
      "text/plain": [
       "<PIL.Image.Image image mode=RGB size=248x122 at 0x7FD5556DD390>"
      ]
     },
     "execution_count": 4,
     "metadata": {},
     "output_type": "execute_result"
    }
   ],
   "source": [
    "circuit_drawer(circuit)"
   ]
  },
  {
   "cell_type": "markdown",
   "metadata": {},
   "source": [
    "Ejecutamos el circuito."
   ]
  },
  {
   "cell_type": "code",
   "execution_count": 5,
   "metadata": {},
   "outputs": [],
   "source": [
    "job = qiskit.execute( circuit, qiskit.Aer.get_backend('qasm_simulator') )"
   ]
  },
  {
   "cell_type": "markdown",
   "metadata": {},
   "source": [
    "Lo que hace **qiskit** es que simula el experimento correspondiente una cierta cantidad de veces y nos dice las veces que el estado $|0\\rangle$ fue medido y las veces que el estado $|1\\rangle$ fue medido. Típicamente, los estados son inicializados en $|0\\rangle$, de modo que esperamos que todas las mediciones arrojen este estado y ninguna medición arroje $|1\\rangle$."
   ]
  },
  {
   "cell_type": "code",
   "execution_count": 6,
   "metadata": {},
   "outputs": [
    {
     "name": "stdout",
     "output_type": "stream",
     "text": [
      "{'0': 1024}\n"
     ]
    }
   ],
   "source": [
    "print( job.result().get_counts() )"
   ]
  },
  {
   "cell_type": "markdown",
   "metadata": {},
   "source": [
    "Ahora aplicamos la compuerta lógica NOT sobre nuestro _qubit_ en el estado $|0\\rangle$. La compuerta NOT opera sobre la base de estados de la manera\n",
    "$$\n",
    "\\begin{aligned}\n",
    " |0\\rangle & \\longrightarrow |1\\rangle, \\\\\n",
    " |1\\rangle & \\longrightarrow |0\\rangle, \\\\\n",
    "\\end{aligned}\n",
    "$$\n",
    "es decir, es una matriz unitaria con la forma\n",
    "$$\n",
    " U_H = \\frac{1}{\\sqrt{2}}\n",
    "  \\begin{pmatrix}\n",
    "   0 & 1 \\\\\n",
    "   1 & 0\n",
    "  \\end{pmatrix}\n",
    "$$\n",
    "si hacemos la asociación\n",
    "$$\n",
    " |0\\rangle = \n",
    "  \\begin{pmatrix}\n",
    "   1 \\\\\n",
    "   0\n",
    "  \\end{pmatrix},\n",
    "  \\qquad\\qquad\n",
    "  |1\\rangle = \n",
    "  \\begin{pmatrix}\n",
    "   0 \\\\\n",
    "   1\n",
    "  \\end{pmatrix}.\n",
    "$$\n",
    "Actuando sobre nuestro _qubit_, esperamos que el estado resultante sea $|1\\rangle$."
   ]
  },
  {
   "cell_type": "code",
   "execution_count": 7,
   "metadata": {},
   "outputs": [
    {
     "data": {
      "text/plain": [
       "<qiskit.extensions.standard.x.XGate at 0x7fd555692518>"
      ]
     },
     "execution_count": 7,
     "metadata": {},
     "output_type": "execute_result"
    }
   ],
   "source": [
    "circuit.x(qr[0])"
   ]
  },
  {
   "cell_type": "markdown",
   "metadata": {},
   "source": [
    "Definimos una medición."
   ]
  },
  {
   "cell_type": "code",
   "execution_count": 8,
   "metadata": {},
   "outputs": [
    {
     "data": {
      "text/plain": [
       "<qiskit._instructionset.InstructionSet at 0x7fd5556927b8>"
      ]
     },
     "execution_count": 8,
     "metadata": {},
     "output_type": "execute_result"
    }
   ],
   "source": [
    "circuit.measure(qr,cr)"
   ]
  },
  {
   "cell_type": "markdown",
   "metadata": {},
   "source": [
    "Este es nuestro circuito."
   ]
  },
  {
   "cell_type": "code",
   "execution_count": 9,
   "metadata": {},
   "outputs": [
    {
     "data": {
      "image/png": "[encoded data removed]",
      "text/plain": [
       "<PIL.Image.Image image mode=RGB size=392x88 at 0x7FD555688048>"
      ]
     },
     "execution_count": 9,
     "metadata": {},
     "output_type": "execute_result"
    }
   ],
   "source": [
    "circuit_drawer(circuit)"
   ]
  },
  {
   "cell_type": "markdown",
   "metadata": {},
   "source": [
    "Ejecutamos y vemos los resultados."
   ]
  },
  {
   "cell_type": "code",
   "execution_count": 10,
   "metadata": {},
   "outputs": [],
   "source": [
    "job = qiskit.execute( circuit, qiskit.Aer.get_backend('qasm_simulator') )"
   ]
  },
  {
   "cell_type": "code",
   "execution_count": 11,
   "metadata": {},
   "outputs": [
    {
     "name": "stdout",
     "output_type": "stream",
     "text": [
      "{'1': 1024}\n"
     ]
    }
   ],
   "source": [
    "print( job.result().get_counts() )"
   ]
  },
  {
   "cell_type": "markdown",
   "metadata": {},
   "source": [
    "Efectivamente, el estado del _qubit_ fue negado."
   ]
  },
  {
   "cell_type": "markdown",
   "metadata": {},
   "source": [
    "Finalmente, aplicamos una compuerta muy importante en la computación cuántica, que es la compuerta de Hadamard (H). Esta compuerta transforma los elementos de la base de estados de la siguiente forma,\n",
    "$$\n",
    "\\begin{aligned}\n",
    " |0\\rangle & \\longrightarrow \\frac{1}{\\sqrt{2}}\\left(|0\\rangle + |1\\rangle\\right), \\\\\n",
    " |1\\rangle & \\longrightarrow \\frac{1}{\\sqrt{2}}\\left(|0\\rangle - |1\\rangle\\right), \\\\\n",
    "\\end{aligned}\n",
    "$$\n",
    "es decir, es un operador unitario con la forma\n",
    "$$\n",
    " U_H = \\frac{1}{\\sqrt{2}}\n",
    "  \\begin{pmatrix}\n",
    "   1 & 1 \\\\\n",
    "   1 & -1\n",
    "  \\end{pmatrix}.\n",
    "$$\n",
    "Lo importante de esta compuerta es que genera una superposición de los estados de la base. Esta superposición es equitativa, es decir, al hacer una medición del estado resultante de aplicar H sobre los estados de la base, las probabilidades de medir alguno de estos estados es 1/2 para ambos."
   ]
  },
  {
   "cell_type": "code",
   "execution_count": 12,
   "metadata": {},
   "outputs": [
    {
     "data": {
      "text/plain": [
       "<qiskit.extensions.standard.h.HGate at 0x7fd5556a54e0>"
      ]
     },
     "execution_count": 12,
     "metadata": {},
     "output_type": "execute_result"
    }
   ],
   "source": [
    "circuit.h(qr[0])"
   ]
  },
  {
   "cell_type": "markdown",
   "metadata": {},
   "source": [
    "Definimos una medición."
   ]
  },
  {
   "cell_type": "code",
   "execution_count": 13,
   "metadata": {},
   "outputs": [
    {
     "data": {
      "text/plain": [
       "<qiskit._instructionset.InstructionSet at 0x7fd5556a52b0>"
      ]
     },
     "execution_count": 13,
     "metadata": {},
     "output_type": "execute_result"
    }
   ],
   "source": [
    "circuit.measure(qr,cr)"
   ]
  },
  {
   "cell_type": "markdown",
   "metadata": {},
   "source": [
    "Nuestro circuito es el siguiente."
   ]
  },
  {
   "cell_type": "code",
   "execution_count": 14,
   "metadata": {
    "scrolled": true
   },
   "outputs": [
    {
     "data": {
      "image/png": "[encoded data removed]",
      "text/plain": [
       "<PIL.Image.Image image mode=RGB size=534x88 at 0x7FD5556A5BE0>"
      ]
     },
     "execution_count": 14,
     "metadata": {},
     "output_type": "execute_result"
    }
   ],
   "source": [
    "circuit_drawer(circuit)"
   ]
  },
  {
   "cell_type": "markdown",
   "metadata": {},
   "source": [
    "Ejecutamos y vemos los resultados."
   ]
  },
  {
   "cell_type": "code",
   "execution_count": 15,
   "metadata": {},
   "outputs": [],
   "source": [
    "job = qiskit.execute( circuit, qiskit.Aer.get_backend('qasm_simulator') )"
   ]
  },
  {
   "cell_type": "code",
   "execution_count": 16,
   "metadata": {},
   "outputs": [
    {
     "name": "stdout",
     "output_type": "stream",
     "text": [
      "{'0': 512, '1': 512}\n"
     ]
    }
   ],
   "source": [
    "print( job.result().get_counts() )"
   ]
  },
  {
   "cell_type": "markdown",
   "metadata": {},
   "source": [
    "Vemos que aproximadamente se ha medido la mitad de las veces al estado $|0\\rangle$ y la mitad de las veces al estado $|1\\rangle$, 515 y 509 veces, respectivamente, de un total de 1024 veces."
   ]
  },
  {
   "cell_type": "markdown",
   "metadata": {},
   "source": [
    "Todos estos resultados son simulados por **qiskit**. **qiskit** ofrece también una interfaz para ejecutar los circuitos cuánticos en una computadora cuántica real de IBM. Pueden probarlo si les interesa. Necesitan primero crear una cuenta en [IBM Q](https://quantumexperience.ng.bluemix.net/qx/experience). Acá hay más documentación de [**qiskit**](https://github.com/Qiskit/qiskit-tutorial)."
   ]
  }
 ],
 "metadata": {
  "kernelspec": {
   "display_name": "Python 3",
   "language": "python",
   "name": "python3"
  },
  "language_info": {
   "codemirror_mode": {
    "name": "ipython",
    "version": 3
   },
   "file_extension": ".py",
   "mimetype": "text/x-python",
   "name": "python",
   "nbconvert_exporter": "python",
   "pygments_lexer": "ipython3",
   "version": "3.6.6"
  }
 },
 "nbformat": 4,
 "nbformat_minor": 2
}
